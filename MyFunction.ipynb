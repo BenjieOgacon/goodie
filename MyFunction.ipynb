{
 "cells": [
  {
   "cell_type": "code",
   "execution_count": 1,
   "id": "dfa66c62",
   "metadata": {},
   "outputs": [
    {
     "data": {
      "text/plain": [
       "314.2"
      ]
     },
     "execution_count": 1,
     "metadata": {},
     "output_type": "execute_result"
    }
   ],
   "source": [
    "from MyFunction import *\n",
    "Area(10)"
   ]
  },
  {
   "cell_type": "code",
   "execution_count": 2,
   "id": "ec45c19c",
   "metadata": {},
   "outputs": [
    {
     "data": {
      "text/plain": [
       "31420.0"
      ]
     },
     "execution_count": 2,
     "metadata": {},
     "output_type": "execute_result"
    }
   ],
   "source": [
    "import MyFunction\n",
    "MyFunction.Area(100)"
   ]
  },
  {
   "cell_type": "code",
   "execution_count": 6,
   "id": "f01c3841",
   "metadata": {},
   "outputs": [
    {
     "data": {
      "text/plain": [
       "('A= ', 54, 'and B=', 3628800)"
      ]
     },
     "execution_count": 6,
     "metadata": {},
     "output_type": "execute_result"
    }
   ],
   "source": [
    "def sum_prod(n,m):\n",
    "    som=0\n",
    "    prod=1\n",
    "    for i in range(m,n+1):\n",
    "        som= som+i\n",
    "        prod*=i\n",
    "    return \"A= \",som, \"and B=\", prod\n",
    "sum_prod(10,2)"
   ]
  },
  {
   "cell_type": "code",
   "execution_count": null,
   "id": "292256da",
   "metadata": {},
   "outputs": [],
   "source": []
  }
 ],
 "metadata": {
  "kernelspec": {
   "display_name": "Python 3",
   "language": "python",
   "name": "python3"
  },
  "language_info": {
   "codemirror_mode": {
    "name": "ipython",
    "version": 3
   },
   "file_extension": ".py",
   "mimetype": "text/x-python",
   "name": "python",
   "nbconvert_exporter": "python",
   "pygments_lexer": "ipython3",
   "version": "3.9.2"
  }
 },
 "nbformat": 4,
 "nbformat_minor": 5
}
